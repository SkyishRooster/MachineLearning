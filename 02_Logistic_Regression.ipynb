{
 "cells": [
  {
   "attachments": {},
   "cell_type": "markdown",
   "id": "bff62bef",
   "metadata": {},
   "source": [
    "### 1. Using the 02_sales.csv, show effects of interactions, if any, on the linear regression model to predict the total_sales for a new area using given sales from three areas.\n"
   ]
  },
  {
   "cell_type": "code",
   "execution_count": 1,
   "id": "6e539feb",
   "metadata": {
    "scrolled": true
   },
   "outputs": [],
   "source": [
    "# install necessary packages\n",
    "#!pip install pandas\n",
    "#!pip install scikit-learn\n",
    "#!pip install statsmodels\n",
    "#!pip install matplotlib\n",
    "#!pip install seaborn"
   ]
  },
  {
   "cell_type": "code",
   "execution_count": 2,
   "id": "53ba814b",
   "metadata": {},
   "outputs": [],
   "source": [
    "import pandas as pd\n",
    "import numpy as np\n",
    "import matplotlib.pyplot as plt\n",
    "import seaborn as sns\n",
    "import statsmodels.formula.api as smf\n",
    "from sklearn.linear_model import LogisticRegression, LinearRegression\n",
    "from sklearn.model_selection import train_test_split\n",
    "from sklearn.preprocessing import RobustScaler, PolynomialFeatures\n",
    "from sklearn import metrics\n",
    "from math import log, exp\n",
    "import statistics as stats"
   ]
  },
  {
   "cell_type": "code",
   "execution_count": 3,
   "id": "5ad30423",
   "metadata": {},
   "outputs": [
    {
     "data": {
      "text/html": [
       "<div>\n",
       "<style scoped>\n",
       "    .dataframe tbody tr th:only-of-type {\n",
       "        vertical-align: middle;\n",
       "    }\n",
       "\n",
       "    .dataframe tbody tr th {\n",
       "        vertical-align: top;\n",
       "    }\n",
       "\n",
       "    .dataframe thead th {\n",
       "        text-align: right;\n",
       "    }\n",
       "</style>\n",
       "<table border=\"1\" class=\"dataframe\">\n",
       "  <thead>\n",
       "    <tr style=\"text-align: right;\">\n",
       "      <th></th>\n",
       "      <th>Unnamed: 0</th>\n",
       "      <th>area1_sales</th>\n",
       "      <th>area2_sales</th>\n",
       "      <th>area3_sales</th>\n",
       "      <th>total_sales</th>\n",
       "    </tr>\n",
       "  </thead>\n",
       "  <tbody>\n",
       "    <tr>\n",
       "      <th>0</th>\n",
       "      <td>1000</td>\n",
       "      <td>0.79</td>\n",
       "      <td>0.80</td>\n",
       "      <td>0.02</td>\n",
       "      <td>1.75</td>\n",
       "    </tr>\n",
       "    <tr>\n",
       "      <th>1</th>\n",
       "      <td>1001</td>\n",
       "      <td>0.83</td>\n",
       "      <td>0.08</td>\n",
       "      <td>0.18</td>\n",
       "      <td>1.75</td>\n",
       "    </tr>\n",
       "    <tr>\n",
       "      <th>2</th>\n",
       "      <td>1002</td>\n",
       "      <td>0.85</td>\n",
       "      <td>0.01</td>\n",
       "      <td>0.22</td>\n",
       "      <td>1.75</td>\n",
       "    </tr>\n",
       "    <tr>\n",
       "      <th>3</th>\n",
       "      <td>1003</td>\n",
       "      <td>1.25</td>\n",
       "      <td>0.00</td>\n",
       "      <td>0.03</td>\n",
       "      <td>1.75</td>\n",
       "    </tr>\n",
       "    <tr>\n",
       "      <th>4</th>\n",
       "      <td>1004</td>\n",
       "      <td>0.72</td>\n",
       "      <td>0.04</td>\n",
       "      <td>0.10</td>\n",
       "      <td>1.74</td>\n",
       "    </tr>\n",
       "  </tbody>\n",
       "</table>\n",
       "</div>"
      ],
      "text/plain": [
       "   Unnamed: 0  area1_sales  area2_sales  area3_sales  total_sales\n",
       "0        1000         0.79         0.80         0.02         1.75\n",
       "1        1001         0.83         0.08         0.18         1.75\n",
       "2        1002         0.85         0.01         0.22         1.75\n",
       "3        1003         1.25         0.00         0.03         1.75\n",
       "4        1004         0.72         0.04         0.10         1.74"
      ]
     },
     "execution_count": 3,
     "metadata": {},
     "output_type": "execute_result"
    }
   ],
   "source": [
    "# import the data\n",
    "sales = pd.read_csv('02_sales.csv')\n",
    "\n",
    "# get a quick view of the data set\n",
    "sales.head()"
   ]
  },
  {
   "cell_type": "code",
   "execution_count": 4,
   "id": "eeaad939",
   "metadata": {},
   "outputs": [
    {
     "name": "stdout",
     "output_type": "stream",
     "text": [
      "<class 'pandas.core.frame.DataFrame'>\n",
      "RangeIndex: 3000 entries, 0 to 2999\n",
      "Data columns (total 5 columns):\n",
      " #   Column       Non-Null Count  Dtype  \n",
      "---  ------       --------------  -----  \n",
      " 0   Unnamed: 0   3000 non-null   int64  \n",
      " 1   area1_sales  3000 non-null   float64\n",
      " 2   area2_sales  3000 non-null   float64\n",
      " 3   area3_sales  3000 non-null   float64\n",
      " 4   total_sales  3000 non-null   float64\n",
      "dtypes: float64(4), int64(1)\n",
      "memory usage: 117.3 KB\n"
     ]
    }
   ],
   "source": [
    "# get basic info of the data set\n",
    "sales.info()"
   ]
  },
  {
   "cell_type": "code",
   "execution_count": 5,
   "id": "1c71c953",
   "metadata": {},
   "outputs": [],
   "source": [
    "# Split the data\n",
    "x = sales.iloc[:,1:4]\n",
    "y = sales.iloc[:,4]\n",
    "x_train , x_test , y_train , y_test = train_test_split(x, y, test_size= 0.25 , random_state=42)"
   ]
  },
  {
   "cell_type": "code",
   "execution_count": 6,
   "id": "2a7a1a33",
   "metadata": {},
   "outputs": [],
   "source": [
    "# combine x_train and y_train\n",
    "train = pd.concat([x_train, y_train], axis = 1)"
   ]
  },
  {
   "cell_type": "code",
   "execution_count": 7,
   "id": "e3f6c429",
   "metadata": {},
   "outputs": [
    {
     "name": "stdout",
     "output_type": "stream",
     "text": [
      "<class 'pandas.core.frame.DataFrame'>\n",
      "Int64Index: 2250 entries, 2922 to 860\n",
      "Data columns (total 4 columns):\n",
      " #   Column       Non-Null Count  Dtype  \n",
      "---  ------       --------------  -----  \n",
      " 0   area1_sales  2250 non-null   float64\n",
      " 1   area2_sales  2250 non-null   float64\n",
      " 2   area3_sales  2250 non-null   float64\n",
      " 3   total_sales  2250 non-null   float64\n",
      "dtypes: float64(4)\n",
      "memory usage: 87.9 KB\n"
     ]
    }
   ],
   "source": [
    "train.info()"
   ]
  },
  {
   "cell_type": "code",
   "execution_count": 8,
   "id": "c1edfb29",
   "metadata": {},
   "outputs": [
    {
     "name": "stdout",
     "output_type": "stream",
     "text": [
      "                 Generalized Linear Model Regression Results                  \n",
      "==============================================================================\n",
      "Dep. Variable:            total_sales   No. Observations:                 3000\n",
      "Model:                            GLM   Df Residuals:                     2993\n",
      "Model Family:                Gaussian   Df Model:                            6\n",
      "Link Function:               identity   Scale:                        0.033882\n",
      "Method:                          IRLS   Log-Likelihood:                 823.99\n",
      "Date:                Sun, 22 Jan 2023   Deviance:                       101.41\n",
      "Time:                        17:04:19   Pearson chi2:                     101.\n",
      "No. Iterations:                     3   Pseudo R-squ. (CS):             0.9175\n",
      "Covariance Type:            nonrobust                                         \n",
      "===========================================================================================\n",
      "                              coef    std err          z      P>|z|      [0.025      0.975]\n",
      "-------------------------------------------------------------------------------------------\n",
      "Intercept                   0.3132      0.010     32.165      0.000       0.294       0.332\n",
      "area1_sales                 0.7781      0.018     42.424      0.000       0.742       0.814\n",
      "area2_sales                 0.6315      0.019     33.324      0.000       0.594       0.669\n",
      "area3_sales                 1.2293      0.064     19.106      0.000       1.103       1.355\n",
      "area1_sales:area2_sales     0.4184      0.068      6.135      0.000       0.285       0.552\n",
      "area1_sales:area3_sales     1.2196      0.140      8.714      0.000       0.945       1.494\n",
      "area2_sales:area3_sales     1.2131      0.364      3.335      0.001       0.500       1.926\n",
      "===========================================================================================\n"
     ]
    }
   ],
   "source": [
    "# determine the model with interaction terms\n",
    "formula = \"total_sales ~ area1_sales + area2_sales + area3_sales + area1_sales*area2_sales + area1_sales*area3_sales + area2_sales*area3_sales\"\n",
    "\n",
    "# fit the model\n",
    "olsmod = smf.glm(formula = formula, data = sales)\n",
    "olsres = olsmod.fit()\n",
    "\n",
    "# summerize the model\n",
    "print(olsres.summary())"
   ]
  },
  {
   "cell_type": "markdown",
   "id": "70c3a86c",
   "metadata": {},
   "source": [
    "The p-values of all variables, including the interaction terms, are less than 0.01. Therefore, all the variables can be included in the model. "
   ]
  },
  {
   "cell_type": "markdown",
   "id": "7074e93b",
   "metadata": {},
   "source": [
    "The model for predicting the total sales for a new area based on the sales of the three known areas would be like:<br><br>*total_sales = 0.3132 + 0.7781\\*area1_sales + 0.6315\\*area2_sales + 1.2293\\*area3_sales + 0.4184\\*area1_sales\\*area2_sales + 1.2196\\*area1_sales\\*area3_sales + 1.2131\\*area2_sales\\*area3_sales*"
   ]
  },
  {
   "cell_type": "code",
   "execution_count": 9,
   "id": "1236437a",
   "metadata": {},
   "outputs": [
    {
     "data": {
      "text/plain": [
       "Text(0.5, 1.0, 'Predicted Sales vs. Actual Sales')"
      ]
     },
     "execution_count": 9,
     "metadata": {},
     "output_type": "execute_result"
    },
    {
     "data": {
      "image/png": "[encoded data removed]",
      "text/plain": [
       "<Figure size 640x480 with 1 Axes>"
      ]
     },
     "metadata": {},
     "output_type": "display_data"
    }
   ],
   "source": [
    "# Test the model on testing data set\n",
    "y_pred = olsres.predict(x_test)\n",
    "\n",
    "# Plot the comparison\n",
    "fig, ax = plt.subplots()\n",
    "ax.plot(range(3), range(3), color = 'r')\n",
    "ax.scatter(y_test, y_pred, color = 'grey')\n",
    "ax.set_xlabel(\"Actual Sales\")\n",
    "ax.set_ylabel(\"Predicted Sales\")\n",
    "ax.set_title(\"Predicted Sales vs. Actual Sales\")\n",
    "#ax.scatter(range(750), y_test, color = 'b', label=\"True\")\n",
    "#ax.scatter(range(750), y_pred, color = \"r\", label=\"OLS prediction\")\n",
    "#ax.legend(loc=\"best\")"
   ]
  },
  {
   "cell_type": "markdown",
   "id": "bab8be91",
   "metadata": {},
   "source": [
    "According to the plot above, the scatter dots of Predicted Sales over the Actual Sales are basically surrounding the diagonal line. It implies that the Predicted Sales are not quite different from the Actual Sales, which means the model predicted the testing set well."
   ]
  },
  {
   "cell_type": "code",
   "execution_count": 10,
   "id": "10330cbb",
   "metadata": {},
   "outputs": [
    {
     "data": {
      "text/plain": [
       "0.6236875476937465"
      ]
     },
     "execution_count": 10,
     "metadata": {},
     "output_type": "execute_result"
    }
   ],
   "source": [
    "# Calculate the OOS R-squared\n",
    "y_bar = stats.mean(y_test)\n",
    "n = 0\n",
    "d0 = 0\n",
    "d = 0\n",
    "\n",
    "for p, t in zip(y_pred, y_test):\n",
    "    d0 += (p - y_bar)**2\n",
    "    d += (p - t)**2\n",
    "    n += 1\n",
    "\n",
    "D0 = d0 / n\n",
    "D = d / n\n",
    "\n",
    "OOS_R2 = 1 - (D / D0)\n",
    "OOS_R2"
   ]
  },
  {
   "cell_type": "markdown",
   "id": "23bea7c2",
   "metadata": {},
   "source": [
    "The Out-of-Sample $R^2$ is about 0.624, which is a good number. The model performs well outside of the training set."
   ]
  },
  {
   "attachments": {},
   "cell_type": "markdown",
   "id": "59070f95",
   "metadata": {},
   "source": [
    "### 2. Develop a Logistic Regression Model using 02_customer.csv to predict whether the customer will purchase the product. Also train trimmed logistic regression models. Compute the OOS R2 for the models you train and compare the models based on this metric. "
   ]
  },
  {
   "cell_type": "markdown",
   "id": "c138aa64",
   "metadata": {},
   "source": [
    "The model for predicting the total sales for a new area based on the sales of the three known areas would be like:<br><br>*total_sales = 0.3132 + 0.7781\\*area1_sales + 0.6315\\*area2_sales + 1.2293\\*area3_sales + 0.4184\\*area1_sales\\*area2_sales + 1.2196\\*area1_sales\\*area3_sales + 1.2131\\*area2_sales\\*area3_sales*"
   ]
  },
  {
   "cell_type": "code",
   "execution_count": 11,
   "id": "7488345d",
   "metadata": {},
   "outputs": [
    {
     "data": {
      "text/html": [
       "<div>\n",
       "<style scoped>\n",
       "    .dataframe tbody tr th:only-of-type {\n",
       "        vertical-align: middle;\n",
       "    }\n",
       "\n",
       "    .dataframe tbody tr th {\n",
       "        vertical-align: top;\n",
       "    }\n",
       "\n",
       "    .dataframe thead th {\n",
       "        text-align: right;\n",
       "    }\n",
       "</style>\n",
       "<table border=\"1\" class=\"dataframe\">\n",
       "  <thead>\n",
       "    <tr style=\"text-align: right;\">\n",
       "      <th></th>\n",
       "      <th>User ID</th>\n",
       "      <th>Gender</th>\n",
       "      <th>Age</th>\n",
       "      <th>EstimatedSalary</th>\n",
       "      <th>Purchased</th>\n",
       "    </tr>\n",
       "  </thead>\n",
       "  <tbody>\n",
       "    <tr>\n",
       "      <th>0</th>\n",
       "      <td>15624510</td>\n",
       "      <td>Male</td>\n",
       "      <td>19</td>\n",
       "      <td>19000</td>\n",
       "      <td>0</td>\n",
       "    </tr>\n",
       "    <tr>\n",
       "      <th>1</th>\n",
       "      <td>15810944</td>\n",
       "      <td>Male</td>\n",
       "      <td>35</td>\n",
       "      <td>20000</td>\n",
       "      <td>0</td>\n",
       "    </tr>\n",
       "    <tr>\n",
       "      <th>2</th>\n",
       "      <td>15668575</td>\n",
       "      <td>Female</td>\n",
       "      <td>26</td>\n",
       "      <td>43000</td>\n",
       "      <td>0</td>\n",
       "    </tr>\n",
       "    <tr>\n",
       "      <th>3</th>\n",
       "      <td>15603246</td>\n",
       "      <td>Female</td>\n",
       "      <td>27</td>\n",
       "      <td>57000</td>\n",
       "      <td>0</td>\n",
       "    </tr>\n",
       "    <tr>\n",
       "      <th>4</th>\n",
       "      <td>15804002</td>\n",
       "      <td>Male</td>\n",
       "      <td>19</td>\n",
       "      <td>76000</td>\n",
       "      <td>0</td>\n",
       "    </tr>\n",
       "  </tbody>\n",
       "</table>\n",
       "</div>"
      ],
      "text/plain": [
       "    User ID  Gender  Age  EstimatedSalary  Purchased\n",
       "0  15624510    Male   19            19000          0\n",
       "1  15810944    Male   35            20000          0\n",
       "2  15668575  Female   26            43000          0\n",
       "3  15603246  Female   27            57000          0\n",
       "4  15804002    Male   19            76000          0"
      ]
     },
     "execution_count": 11,
     "metadata": {},
     "output_type": "execute_result"
    }
   ],
   "source": [
    "# import the csv file\n",
    "customer = pd.read_csv(\"customer.csv\")\n",
    "\n",
    "# get the first five rows of the data set\n",
    "customer.head()"
   ]
  },
  {
   "cell_type": "code",
   "execution_count": 12,
   "id": "d54ef8be",
   "metadata": {},
   "outputs": [
    {
     "name": "stdout",
     "output_type": "stream",
     "text": [
      "<class 'pandas.core.frame.DataFrame'>\n",
      "RangeIndex: 400 entries, 0 to 399\n",
      "Data columns (total 5 columns):\n",
      " #   Column           Non-Null Count  Dtype \n",
      "---  ------           --------------  ----- \n",
      " 0   User ID          400 non-null    int64 \n",
      " 1   Gender           400 non-null    object\n",
      " 2   Age              400 non-null    int64 \n",
      " 3   EstimatedSalary  400 non-null    int64 \n",
      " 4   Purchased        400 non-null    int64 \n",
      "dtypes: int64(4), object(1)\n",
      "memory usage: 15.8+ KB\n"
     ]
    }
   ],
   "source": [
    "# get the basic info of the dataset\n",
    "customer.info()"
   ]
  },
  {
   "cell_type": "code",
   "execution_count": 13,
   "id": "fa12d78a",
   "metadata": {},
   "outputs": [
    {
     "data": {
      "text/html": [
       "<div>\n",
       "<style scoped>\n",
       "    .dataframe tbody tr th:only-of-type {\n",
       "        vertical-align: middle;\n",
       "    }\n",
       "\n",
       "    .dataframe tbody tr th {\n",
       "        vertical-align: top;\n",
       "    }\n",
       "\n",
       "    .dataframe thead th {\n",
       "        text-align: right;\n",
       "    }\n",
       "</style>\n",
       "<table border=\"1\" class=\"dataframe\">\n",
       "  <thead>\n",
       "    <tr style=\"text-align: right;\">\n",
       "      <th></th>\n",
       "      <th>User ID</th>\n",
       "      <th>Gender</th>\n",
       "      <th>Age</th>\n",
       "      <th>EstimatedSalary</th>\n",
       "      <th>Purchased</th>\n",
       "    </tr>\n",
       "  </thead>\n",
       "  <tbody>\n",
       "    <tr>\n",
       "      <th>0</th>\n",
       "      <td>15624510</td>\n",
       "      <td>0</td>\n",
       "      <td>19</td>\n",
       "      <td>19000</td>\n",
       "      <td>0</td>\n",
       "    </tr>\n",
       "    <tr>\n",
       "      <th>1</th>\n",
       "      <td>15810944</td>\n",
       "      <td>0</td>\n",
       "      <td>35</td>\n",
       "      <td>20000</td>\n",
       "      <td>0</td>\n",
       "    </tr>\n",
       "    <tr>\n",
       "      <th>2</th>\n",
       "      <td>15668575</td>\n",
       "      <td>1</td>\n",
       "      <td>26</td>\n",
       "      <td>43000</td>\n",
       "      <td>0</td>\n",
       "    </tr>\n",
       "    <tr>\n",
       "      <th>3</th>\n",
       "      <td>15603246</td>\n",
       "      <td>1</td>\n",
       "      <td>27</td>\n",
       "      <td>57000</td>\n",
       "      <td>0</td>\n",
       "    </tr>\n",
       "    <tr>\n",
       "      <th>4</th>\n",
       "      <td>15804002</td>\n",
       "      <td>0</td>\n",
       "      <td>19</td>\n",
       "      <td>76000</td>\n",
       "      <td>0</td>\n",
       "    </tr>\n",
       "  </tbody>\n",
       "</table>\n",
       "</div>"
      ],
      "text/plain": [
       "    User ID Gender  Age  EstimatedSalary  Purchased\n",
       "0  15624510      0   19            19000          0\n",
       "1  15810944      0   35            20000          0\n",
       "2  15668575      1   26            43000          0\n",
       "3  15603246      1   27            57000          0\n",
       "4  15804002      0   19            76000          0"
      ]
     },
     "execution_count": 13,
     "metadata": {},
     "output_type": "execute_result"
    }
   ],
   "source": [
    "# Convert Male into 0 and Female into 1\n",
    "customer_original = customer.copy()\n",
    "\n",
    "customer.loc[customer['Gender'] == 'Male', 'Gender'] = 0\n",
    "customer.loc[customer['Gender'] == 'Female', 'Gender'] = 1\n",
    "\n",
    "customer.head()"
   ]
  },
  {
   "cell_type": "code",
   "execution_count": 14,
   "id": "1445bff1",
   "metadata": {},
   "outputs": [],
   "source": [
    "def evaluate(X, y, model):\n",
    "    '''evaluate the model by its null deviance, residual deviance, and R-sqaured'''\n",
    "    # D = -2*sum[y*log(p) + (1-y)*log(1-p)]\n",
    "    # log loss = -(y*log(p) + (1-y)*log(1-p))\n",
    "    # predict gives the output of 0 or 1; predic_proba gives the probability of 1\n",
    "    #D1 = 2 * metrics.log_loss(y, model.predict_proba(X), normalize=False)\n",
    "    D = 0\n",
    "    for i, y_i in zip(model.predict_proba(X), y):\n",
    "        yy = (y_i)*log(i[1]) + (1 - y_i)*log(i[0])\n",
    "        D += yy\n",
    "    D = D * (-2)\n",
    "    \n",
    "    # D0 = -2*sum[y*log(y_bar) + (1-y)*log(1-y_bar)]    \n",
    "    D0 = 0\n",
    "    y_bar = stats.mean(y)\n",
    "    for y_i in y:\n",
    "        yy = (y_i)*log(y_bar) + (1 - y_i)*log(1 - y_bar)\n",
    "        D0 += yy\n",
    "    D0 = D0 * (-2)\n",
    "    \n",
    "    r2 = 1 - (D / D0)\n",
    "    \n",
    "    print(f\"Null Deviance: {D0} \\nResidual Deviance: {D} \\nR-squared: {r2}\")\n",
    "    return r2"
   ]
  },
  {
   "cell_type": "code",
   "execution_count": 15,
   "id": "152fe3f2",
   "metadata": {},
   "outputs": [],
   "source": [
    "def r2(X, y, model):\n",
    "    '''Return the R-squared of the model'''\n",
    "    r2 = metrics.r2_score(y, model.predict(X))\n",
    "    return r2"
   ]
  },
  {
   "cell_type": "code",
   "execution_count": 16,
   "id": "4adb5df7",
   "metadata": {},
   "outputs": [
    {
     "name": "stdout",
     "output_type": "stream",
     "text": [
      "The R-square of model_1 is 0.35784060297678977.\n",
      "Null Deviance: 521.5729657959082 \n",
      "Residual Deviance: 277.93301960431467 \n",
      "R-squared: 0.4671253346495915\n"
     ]
    }
   ],
   "source": [
    "# model 1: include all three variables (gender, age, and estimated salary) but no interaction term\n",
    "y = customer['Purchased']\n",
    "x_1 = customer[['Gender', 'Age', 'EstimatedSalary']]\n",
    "\n",
    "# scale the data\n",
    "x_1 = RobustScaler().fit_transform(x_1)\n",
    "\n",
    "# fit the model\n",
    "model_1 = LogisticRegression().fit(x_1, y)\n",
    "\n",
    "r2_1 = r2(x_1, y, model_1)\n",
    "\n",
    "print(f\"The R-square of model_1 is {r2_1}.\")\n",
    "rm_1 = evaluate(x_1, y, model_1)"
   ]
  },
  {
   "cell_type": "code",
   "execution_count": 17,
   "id": "23d19211",
   "metadata": {},
   "outputs": [
    {
     "name": "stdout",
     "output_type": "stream",
     "text": [
      "['1' 'x0' 'x1' 'x2' 'x0 x1' 'x0 x2' 'x1 x2']\n",
      "[[ 1.         -1.         -1.10769231 ...  1.10769231  1.13333333\n",
      "   1.25538462]\n",
      " [ 1.         -1.         -0.12307692 ...  0.12307692  1.11111111\n",
      "   0.13675214]\n",
      " [ 1.          0.         -0.67692308 ... -0.         -0.\n",
      "   0.40615385]\n",
      " ...\n",
      " [ 1.          0.          0.8        ...  0.         -0.\n",
      "  -0.88888889]\n",
      " [ 1.         -1.         -0.06153846 ...  0.06153846  0.82222222\n",
      "   0.05059829]\n",
      " [ 1.          0.          0.73846154 ...  0.         -0.\n",
      "  -0.55794872]]\n"
     ]
    }
   ],
   "source": [
    "# create interaction terms\n",
    "poly = PolynomialFeatures(2, interaction_only=True, include_bias=True)\n",
    "print(poly.fit(x_1).get_feature_names_out())\n",
    "\n",
    "x_2 = poly.fit_transform(x_1)\n",
    "print(x_2)"
   ]
  },
  {
   "cell_type": "code",
   "execution_count": 18,
   "id": "e6a2fc4d",
   "metadata": {},
   "outputs": [
    {
     "name": "stdout",
     "output_type": "stream",
     "text": [
      "The R-square of model_2 is 0.4884492938967647.\n",
      "Null Deviance: 521.5729657959082 \n",
      "Residual Deviance: 222.92322670469656 \n",
      "R-squared: 0.5725943610506712\n"
     ]
    }
   ],
   "source": [
    "# model 2: include all three variables and all the interaction terms\n",
    "model_2 = LogisticRegression().fit(x_2, y)\n",
    "\n",
    "r2_2 = r2(x_2, y, model_2)\n",
    "\n",
    "print(f\"The R-square of model_2 is {r2_2}.\")\n",
    "rm_2 = evaluate(x_2, y, model_2)"
   ]
  },
  {
   "cell_type": "code",
   "execution_count": 19,
   "id": "bf657b66",
   "metadata": {},
   "outputs": [
    {
     "name": "stdout",
     "output_type": "stream",
     "text": [
      "The R-square of model_3 is 0.3469565454001251.\n",
      "Null Deviance: 521.5729657959082 \n",
      "Residual Deviance: 276.9878525043773 \n",
      "R-squared: 0.4689374820612102\n"
     ]
    }
   ],
   "source": [
    "# model 3: include the three main variables and the interaction term of Gender and Age\n",
    "x_3 = x_2[:,0:5]\n",
    "\n",
    "model_3 = LogisticRegression().fit(x_3, y)\n",
    "\n",
    "r2_3 = r2(x_3, y, model_3)\n",
    "\n",
    "print(f\"The R-square of model_3 is {r2_3}.\")\n",
    "rm_3 = evaluate(x_3, y, model_3)"
   ]
  },
  {
   "cell_type": "code",
   "execution_count": 20,
   "id": "e0510a6f",
   "metadata": {},
   "outputs": [
    {
     "name": "stdout",
     "output_type": "stream",
     "text": [
      "The R-square of model_4 is 0.33607248782346055.\n",
      "Null Deviance: 521.5729657959082 \n",
      "Residual Deviance: 277.6403509285574 \n",
      "R-squared: 0.4676864616537695\n"
     ]
    }
   ],
   "source": [
    "# model 4: include the three main variables and the interaction term of Gender and EstimatedSalary\n",
    "x_4 = x_2[:,[0,1,2,3,5]]\n",
    "\n",
    "model_4 = LogisticRegression().fit(x_4, y)\n",
    "\n",
    "r2_4 = r2(x_4, y, model_4)\n",
    "\n",
    "print(f\"The R-square of model_4 is {r2_4}.\")\n",
    "rm_4 = evaluate(x_4, y, model_4)"
   ]
  },
  {
   "cell_type": "code",
   "execution_count": 21,
   "id": "92ee33d4",
   "metadata": {},
   "outputs": [
    {
     "name": "stdout",
     "output_type": "stream",
     "text": [
      "The R-square of model_5 is 0.5211014666267584.\n",
      "Null Deviance: 521.5729657959082 \n",
      "Residual Deviance: 223.76734815267656 \n",
      "R-squared: 0.5709759461723389\n"
     ]
    }
   ],
   "source": [
    "# model 5: include the three main variables and the interaction term of Age and EstimatedSalary\n",
    "x_5 = x_2[:,[0,1,2,3,6]]\n",
    "\n",
    "model_5 = LogisticRegression().fit(x_5, y)\n",
    "\n",
    "r2_5 = r2(x_5, y, model_5)\n",
    "\n",
    "print(f\"The R-square of model_5 is {r2_5}.\")\n",
    "rm_5 = evaluate(x_5, y, model_5)"
   ]
  },
  {
   "cell_type": "code",
   "execution_count": 22,
   "id": "6464de00",
   "metadata": {},
   "outputs": [
    {
     "name": "stdout",
     "output_type": "stream",
     "text": [
      "The R-square of model_6 is 0.3687246605534543.\n",
      "Null Deviance: 521.5729657959082 \n",
      "Residual Deviance: 275.5297778144171 \n",
      "R-squared: 0.4717330155446897\n"
     ]
    }
   ],
   "source": [
    "# model 6: include the three main variables, Gender*Age, and Gender*EstimatedSalary\n",
    "x_6 = x_2[:,0:6]\n",
    "\n",
    "model_6 = LogisticRegression().fit(x_6, y)\n",
    "\n",
    "r2_6 = r2(x_6, y, model_6)\n",
    "\n",
    "print(f\"The R-square of model_6 is {r2_6}.\")\n",
    "rm_6 = evaluate(x_6, y, model_6)"
   ]
  },
  {
   "cell_type": "code",
   "execution_count": 23,
   "id": "02768ea3",
   "metadata": {},
   "outputs": [
    {
     "name": "stdout",
     "output_type": "stream",
     "text": [
      "The R-square of model_7 is 0.4993333514734293.\n",
      "Null Deviance: 521.5729657959082 \n",
      "Residual Deviance: 222.97128115839297 \n",
      "R-squared: 0.5725022273381367\n"
     ]
    }
   ],
   "source": [
    "# model 7: include the three main variables, Gender*Age, and Age*EstimatedSalary\n",
    "x_7 = x_2[:,[0,1,2,3,4,6]]\n",
    "\n",
    "model_7 = LogisticRegression().fit(x_7, y)\n",
    "\n",
    "r2_7 = r2(x_7, y, model_7)\n",
    "\n",
    "print(f\"The R-square of model_7 is {r2_7}.\")\n",
    "rm_7 = evaluate(x_7, y, model_7)"
   ]
  },
  {
   "cell_type": "code",
   "execution_count": 24,
   "id": "4483ed98",
   "metadata": {},
   "outputs": [
    {
     "name": "stdout",
     "output_type": "stream",
     "text": [
      "The R-square of model_8 is 0.5211014666267584.\n",
      "Null Deviance: 521.5729657959082 \n",
      "Residual Deviance: 223.79952355057284 \n",
      "R-squared: 0.5709142570128036\n"
     ]
    }
   ],
   "source": [
    "# model 8: include the three main variables, Gender*EstimatedSalary, and Age*EstimatedSalary\n",
    "x_8 = x_2[:,[0,1,2,3,5,6]]\n",
    "\n",
    "model_8 = LogisticRegression().fit(x_8, y)\n",
    "\n",
    "r2_8 = r2(x_8, y, model_8)\n",
    "\n",
    "print(f\"The R-square of model_8 is {r2_8}.\")\n",
    "rm_8 = evaluate(x_8, y, model_8)"
   ]
  },
  {
   "cell_type": "code",
   "execution_count": 25,
   "id": "8fbc4a59",
   "metadata": {
    "scrolled": true
   },
   "outputs": [
    {
     "data": {
      "text/html": [
       "<div>\n",
       "<style scoped>\n",
       "    .dataframe tbody tr th:only-of-type {\n",
       "        vertical-align: middle;\n",
       "    }\n",
       "\n",
       "    .dataframe tbody tr th {\n",
       "        vertical-align: top;\n",
       "    }\n",
       "\n",
       "    .dataframe thead th {\n",
       "        text-align: right;\n",
       "    }\n",
       "</style>\n",
       "<table border=\"1\" class=\"dataframe\">\n",
       "  <thead>\n",
       "    <tr style=\"text-align: right;\">\n",
       "      <th></th>\n",
       "      <th>Calculated by Package</th>\n",
       "      <th>Calculated by Deviance</th>\n",
       "      <th>Foumula</th>\n",
       "    </tr>\n",
       "  </thead>\n",
       "  <tbody>\n",
       "    <tr>\n",
       "      <th>model_1</th>\n",
       "      <td>0.357841</td>\n",
       "      <td>0.467125</td>\n",
       "      <td>G+A+E</td>\n",
       "    </tr>\n",
       "    <tr>\n",
       "      <th>model_2</th>\n",
       "      <td>0.488449</td>\n",
       "      <td>0.572594</td>\n",
       "      <td>G+A+E+GA+GE+AE</td>\n",
       "    </tr>\n",
       "    <tr>\n",
       "      <th>model_3</th>\n",
       "      <td>0.346957</td>\n",
       "      <td>0.468937</td>\n",
       "      <td>G+A+E+GA</td>\n",
       "    </tr>\n",
       "    <tr>\n",
       "      <th>model_4</th>\n",
       "      <td>0.336072</td>\n",
       "      <td>0.467686</td>\n",
       "      <td>G+A+E+GE</td>\n",
       "    </tr>\n",
       "    <tr>\n",
       "      <th>model_5</th>\n",
       "      <td>0.521101</td>\n",
       "      <td>0.570976</td>\n",
       "      <td>G+A+E+AE</td>\n",
       "    </tr>\n",
       "    <tr>\n",
       "      <th>model_6</th>\n",
       "      <td>0.368725</td>\n",
       "      <td>0.471733</td>\n",
       "      <td>G+A+E+GA+GE</td>\n",
       "    </tr>\n",
       "    <tr>\n",
       "      <th>model_7</th>\n",
       "      <td>0.499333</td>\n",
       "      <td>0.572502</td>\n",
       "      <td>G+A+E+GA+AE</td>\n",
       "    </tr>\n",
       "    <tr>\n",
       "      <th>model_8</th>\n",
       "      <td>0.521101</td>\n",
       "      <td>0.570914</td>\n",
       "      <td>G+A+E+GE+AE</td>\n",
       "    </tr>\n",
       "  </tbody>\n",
       "</table>\n",
       "</div>"
      ],
      "text/plain": [
       "         Calculated by Package  Calculated by Deviance         Foumula\n",
       "model_1               0.357841                0.467125           G+A+E\n",
       "model_2               0.488449                0.572594  G+A+E+GA+GE+AE\n",
       "model_3               0.346957                0.468937        G+A+E+GA\n",
       "model_4               0.336072                0.467686        G+A+E+GE\n",
       "model_5               0.521101                0.570976        G+A+E+AE\n",
       "model_6               0.368725                0.471733     G+A+E+GA+GE\n",
       "model_7               0.499333                0.572502     G+A+E+GA+AE\n",
       "model_8               0.521101                0.570914     G+A+E+GE+AE"
      ]
     },
     "execution_count": 25,
     "metadata": {},
     "output_type": "execute_result"
    }
   ],
   "source": [
    "# Summarize the R-squares\n",
    "r2 = [r2_1, r2_2, r2_3, r2_4, r2_5, r2_6, r2_7, r2_8]\n",
    "rm = [rm_1, rm_2, rm_3, rm_4, rm_5, rm_6, rm_7, rm_8]\n",
    "formula = ['G+A+E', 'G+A+E+GA+GE+AE', 'G+A+E+GA','G+A+E+GE','G+A+E+AE','G+A+E+GA+GE','G+A+E+GA+AE','G+A+E+GE+AE']\n",
    "#ind = ['model_1', 'model_2', 'model_3', 'model_4', 'model_5', 'model_6', 'model_7', 'model_8']\n",
    "ind = []\n",
    "for i in range(1,9):\n",
    "    ind.append('model_{0}'.format(i))\n",
    "\n",
    "r_squared = {}\n",
    "r_squared[\"Calculated by Package\"] = r2\n",
    "r_squared[\"Calculated by Deviance\"] = rm\n",
    "r_squared[\"Foumula\"] = formula\n",
    "\n",
    "r_squared = pd.DataFrame(r_squared, index = ind)\n",
    "r_squared"
   ]
  },
  {
   "cell_type": "code",
   "execution_count": 26,
   "id": "353e52bb",
   "metadata": {},
   "outputs": [],
   "source": [
    "# Using statsmodels\n",
    "# model 2: include all three variables (gender, age, and estimated salary) and the interaction term between Gender and Age\n",
    "\n",
    "# fit the model\n",
    "#model = smf.logit(\"Purchased ~ Gender + Age + EstimatedSalary + Gender*Age + Gender*EstimatedSalary + Age*EstimatedSalary\", data = customer).fit()\n",
    "#model.summary()"
   ]
  },
  {
   "attachments": {},
   "cell_type": "markdown",
   "id": "4e61a89c",
   "metadata": {},
   "source": [
    "### 3. Pick the best model wrt to the OOS R2 and interpret the model’s coefficients"
   ]
  },
  {
   "cell_type": "code",
   "execution_count": 27,
   "id": "a12b0cff",
   "metadata": {},
   "outputs": [
    {
     "data": {
      "text/html": [
       "<div>\n",
       "<style scoped>\n",
       "    .dataframe tbody tr th:only-of-type {\n",
       "        vertical-align: middle;\n",
       "    }\n",
       "\n",
       "    .dataframe tbody tr th {\n",
       "        vertical-align: top;\n",
       "    }\n",
       "\n",
       "    .dataframe thead th {\n",
       "        text-align: right;\n",
       "    }\n",
       "</style>\n",
       "<table border=\"1\" class=\"dataframe\">\n",
       "  <thead>\n",
       "    <tr style=\"text-align: right;\">\n",
       "      <th></th>\n",
       "      <th>Calculated by Package</th>\n",
       "      <th>Calculated by Deviance</th>\n",
       "      <th>Foumula</th>\n",
       "    </tr>\n",
       "  </thead>\n",
       "  <tbody>\n",
       "    <tr>\n",
       "      <th>model_2</th>\n",
       "      <td>0.488449</td>\n",
       "      <td>0.572594</td>\n",
       "      <td>G+A+E+GA+GE+AE</td>\n",
       "    </tr>\n",
       "  </tbody>\n",
       "</table>\n",
       "</div>"
      ],
      "text/plain": [
       "         Calculated by Package  Calculated by Deviance         Foumula\n",
       "model_2               0.488449                0.572594  G+A+E+GA+GE+AE"
      ]
     },
     "execution_count": 27,
     "metadata": {},
     "output_type": "execute_result"
    }
   ],
   "source": [
    "# Choose the model with the highest R-squared according to the results calculated by using deviance\n",
    "\n",
    "r_squared[r_squared['Calculated by Deviance'] == max(r_squared['Calculated by Deviance'])]"
   ]
  },
  {
   "cell_type": "code",
   "execution_count": 28,
   "id": "00b3d390",
   "metadata": {},
   "outputs": [
    {
     "name": "stdout",
     "output_type": "stream",
     "text": [
      "[ 2.92867919e-06 -8.70494316e-02  3.55398104e+00  2.13315109e+00\n",
      " -9.13202028e-01 -2.66985095e-01 -2.57393010e+00]\n",
      "[1.0000029286834815, 0.9166317838980612, 34.952186831589174, 8.441424666521955, 0.4012373914028051, 0.7656844839991306, 0.0762353435634024]\n"
     ]
    }
   ],
   "source": [
    "# Get the coefficients of the model\n",
    "coeffs = model_2.coef_[0,:]\n",
    "print(coeffs)\n",
    "\n",
    "# Calculate the odds\n",
    "odds = []\n",
    "for i in coeffs:\n",
    "    odds.append(exp(i))\n",
    "print(odds)"
   ]
  },
  {
   "cell_type": "code",
   "execution_count": 29,
   "id": "9393477a",
   "metadata": {},
   "outputs": [
    {
     "data": {
      "text/html": [
       "<div>\n",
       "<style scoped>\n",
       "    .dataframe tbody tr th:only-of-type {\n",
       "        vertical-align: middle;\n",
       "    }\n",
       "\n",
       "    .dataframe tbody tr th {\n",
       "        vertical-align: top;\n",
       "    }\n",
       "\n",
       "    .dataframe thead th {\n",
       "        text-align: right;\n",
       "    }\n",
       "</style>\n",
       "<table border=\"1\" class=\"dataframe\">\n",
       "  <thead>\n",
       "    <tr style=\"text-align: right;\">\n",
       "      <th></th>\n",
       "      <th>odds</th>\n",
       "    </tr>\n",
       "  </thead>\n",
       "  <tbody>\n",
       "    <tr>\n",
       "      <th>Intercept</th>\n",
       "      <td>1.000003</td>\n",
       "    </tr>\n",
       "    <tr>\n",
       "      <th>Gender</th>\n",
       "      <td>0.916632</td>\n",
       "    </tr>\n",
       "    <tr>\n",
       "      <th>Age</th>\n",
       "      <td>34.952187</td>\n",
       "    </tr>\n",
       "    <tr>\n",
       "      <th>EstimatedSalary</th>\n",
       "      <td>8.441425</td>\n",
       "    </tr>\n",
       "    <tr>\n",
       "      <th>Gender*Age</th>\n",
       "      <td>0.401237</td>\n",
       "    </tr>\n",
       "    <tr>\n",
       "      <th>Gender*EstimatedSalary</th>\n",
       "      <td>0.765684</td>\n",
       "    </tr>\n",
       "    <tr>\n",
       "      <th>Age*EstimatedSalary</th>\n",
       "      <td>0.076235</td>\n",
       "    </tr>\n",
       "  </tbody>\n",
       "</table>\n",
       "</div>"
      ],
      "text/plain": [
       "                             odds\n",
       "Intercept                1.000003\n",
       "Gender                   0.916632\n",
       "Age                     34.952187\n",
       "EstimatedSalary          8.441425\n",
       "Gender*Age               0.401237\n",
       "Gender*EstimatedSalary   0.765684\n",
       "Age*EstimatedSalary      0.076235"
      ]
     },
     "execution_count": 29,
     "metadata": {},
     "output_type": "execute_result"
    }
   ],
   "source": [
    "# create the list of the names of the variables in the model\n",
    "var = ['Intercept','Gender','Age','EstimatedSalary','Gender*Age','Gender*EstimatedSalary','Age*EstimatedSalary']\n",
    "\n",
    "# display the odds in a dataframe\n",
    "df = pd.DataFrame(dict(zip(var,odds)),index = ['odds'])\n",
    "df.T"
   ]
  },
  {
   "cell_type": "markdown",
   "id": "0aec4ed2",
   "metadata": {},
   "source": [
    "- **Intercept:** the odds is about 1, which means without the infomation of the customer's gender, age, and estimated salary, the likelihood of purchasing the product is not expected to be affected by other latent variables.<br>&nbsp;&nbsp;&nbsp;&nbsp;\n",
    "- **Gender:** the odds is about 0.92, which means the odds of buying a product of females is 0.92 times of the odds of males.<br>&nbsp;&nbsp;&nbsp;&nbsp;\n",
    "- **Age:** the odds is about 34.95, which means with one unit increase in one person's age, the odds of the one buying the product is expected to be multiplied by 34.95.<br>&nbsp;&nbsp;&nbsp;&nbsp;\n",
    "- **EstimatedSalary:** the odds is about 8.44, which means one unit increase in one's estimated salary, the odds of the person buying the product is expected to be multiplied by 8.44."
   ]
  },
  {
   "attachments": {},
   "cell_type": "markdown",
   "id": "873deaef",
   "metadata": {},
   "source": [
    "### 4. Plot the interactions of the ‘Age’ and ‘Gender’ features with the ‘Purchased’ output. "
   ]
  },
  {
   "cell_type": "code",
   "execution_count": 32,
   "id": "ea83d8ae",
   "metadata": {},
   "outputs": [],
   "source": [
    "#Age = [sublist[2] for sublist in x_2]\n",
    "#AG = [sublist[4] for sublist in x_2]\n",
    "\n",
    "Age = np.array(customer['Age'])\n",
    "color = np.array(customer['Gender'])\n",
    "Gender = np.array(customer_original['Gender'])\n",
    "#AG = Age.T*Gender\n",
    "\n",
    "#Age = customer[['Age']]\n",
    "#Gender = customer_original[['Gender']]"
   ]
  },
  {
   "cell_type": "code",
   "execution_count": 42,
   "id": "c0bc775e",
   "metadata": {},
   "outputs": [
    {
     "data": {
      "text/html": [
       "<div>\n",
       "<style scoped>\n",
       "    .dataframe tbody tr th:only-of-type {\n",
       "        vertical-align: middle;\n",
       "    }\n",
       "\n",
       "    .dataframe tbody tr th {\n",
       "        vertical-align: top;\n",
       "    }\n",
       "\n",
       "    .dataframe thead th {\n",
       "        text-align: right;\n",
       "    }\n",
       "</style>\n",
       "<table border=\"1\" class=\"dataframe\">\n",
       "  <thead>\n",
       "    <tr style=\"text-align: right;\">\n",
       "      <th></th>\n",
       "      <th>Age</th>\n",
       "      <th>Gender</th>\n",
       "      <th>Probability</th>\n",
       "    </tr>\n",
       "  </thead>\n",
       "  <tbody>\n",
       "    <tr>\n",
       "      <th>0</th>\n",
       "      <td>19</td>\n",
       "      <td>Male</td>\n",
       "      <td>0.000004</td>\n",
       "    </tr>\n",
       "    <tr>\n",
       "      <th>1</th>\n",
       "      <td>35</td>\n",
       "      <td>Male</td>\n",
       "      <td>0.005741</td>\n",
       "    </tr>\n",
       "    <tr>\n",
       "      <th>2</th>\n",
       "      <td>26</td>\n",
       "      <td>Female</td>\n",
       "      <td>0.001652</td>\n",
       "    </tr>\n",
       "    <tr>\n",
       "      <th>3</th>\n",
       "      <td>27</td>\n",
       "      <td>Female</td>\n",
       "      <td>0.007149</td>\n",
       "    </tr>\n",
       "    <tr>\n",
       "      <th>4</th>\n",
       "      <td>19</td>\n",
       "      <td>Male</td>\n",
       "      <td>0.002918</td>\n",
       "    </tr>\n",
       "  </tbody>\n",
       "</table>\n",
       "</div>"
      ],
      "text/plain": [
       "   Age  Gender  Probability\n",
       "0   19    Male     0.000004\n",
       "1   35    Male     0.005741\n",
       "2   26  Female     0.001652\n",
       "3   27  Female     0.007149\n",
       "4   19    Male     0.002918"
      ]
     },
     "execution_count": 42,
     "metadata": {},
     "output_type": "execute_result"
    }
   ],
   "source": [
    "df = pd.DataFrame(customer['Age'])\n",
    "df['Gender'] = customer_original['Gender']\n",
    "df['Probability'] = model_2.predict_proba(x_2)[:,1]\n",
    "df.head()"
   ]
  },
  {
   "cell_type": "code",
   "execution_count": 48,
   "id": "76dffc18",
   "metadata": {
    "scrolled": true
   },
   "outputs": [
    {
     "data": {
      "text/plain": [
       "<seaborn.axisgrid.FacetGrid at 0x16f89f59100>"
      ]
     },
     "execution_count": 48,
     "metadata": {},
     "output_type": "execute_result"
    },
    {
     "data": {
      "image/png": "[encoded data removed]",
      "text/plain": [
       "<Figure size 605.875x500 with 1 Axes>"
      ]
     },
     "metadata": {},
     "output_type": "display_data"
    }
   ],
   "source": [
    "sns.set_theme()\n",
    "pal = dict(Male=\"#6495ED\", Female=\"#F08080\")\n",
    "g = sns.lmplot(x=\"Age\", y=\"Probability\", hue=\"Gender\", data=df,\n",
    "               palette=pal, y_jitter=.02, logistic=True, truncate=False)\n",
    "g.set(ylabel = \"Likelihood of Buying the Product\")"
   ]
  },
  {
   "cell_type": "markdown",
   "id": "2b133d36",
   "metadata": {},
   "source": [
    "According to the plot above, the likelihood of buying the product of males increases faster along with the increase in age than the one of females. Specifically, when Age is larger, the likelihood of buying the product of Male tend to be higher than the one of Female; when Age is smaller, the likelihood of buying the product of Female tend to be higher than the one of Male. Therefore, the plot implies a negative coefficient of the interaction term for Age and Gender, which is aligned with the model results. It manifests the necessity of including the interaction term."
   ]
  }
 ],
 "metadata": {
  "kernelspec": {
   "display_name": "Python 3 (ipykernel)",
   "language": "python",
   "name": "python3"
  },
  "language_info": {
   "codemirror_mode": {
    "name": "ipython",
    "version": 3
   },
   "file_extension": ".py",
   "mimetype": "text/x-python",
   "name": "python",
   "nbconvert_exporter": "python",
   "pygments_lexer": "ipython3",
   "version": "3.9.13"
  }
 },
 "nbformat": 4,
 "nbformat_minor": 5
}
